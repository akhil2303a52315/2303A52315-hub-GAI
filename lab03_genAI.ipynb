{
  "nbformat": 4,
  "nbformat_minor": 0,
  "metadata": {
    "colab": {
      "provenance": [],
      "authorship_tag": "ABX9TyMUBYy1BHz71+j8QYDmQMop",
      "include_colab_link": true
    },
    "kernelspec": {
      "name": "python3",
      "display_name": "Python 3"
    },
    "language_info": {
      "name": "python"
    }
  },
  "cells": [
    {
      "cell_type": "markdown",
      "metadata": {
        "id": "view-in-github",
        "colab_type": "text"
      },
      "source": [
        "<a href=\"https://colab.research.google.com/github/akhil2303a52315/2303A52315-hub-GAI/blob/main/lab03_genAI.ipynb\" target=\"_parent\"><img src=\"https://colab.research.google.com/assets/colab-badge.svg\" alt=\"Open In Colab\"/></a>"
      ]
    },
    {
      "cell_type": "code",
      "execution_count": 1,
      "metadata": {
        "colab": {
          "base_uri": "https://localhost:8080/"
        },
        "id": "SaiFzX4WzSSm",
        "outputId": "8961cd8f-c4e0-46aa-8636-bc110983b0f3"
      },
      "outputs": [
        {
          "output_type": "stream",
          "name": "stdout",
          "text": [
            "Minimum value of f(x): 10.000000000802812\n",
            "Value of x at minimum f(x): 1.63586104206045e-05\n"
          ]
        }
      ],
      "source": [
        "\n",
        "def f(x):\n",
        "    return 5 * x**4 + 3 * x**2 + 10\n",
        "\n",
        "def gradient(x):\n",
        "    return 20 * x**3 + 6 * x\n",
        "\n",
        "def gradient_descent(start_x, learning_rate, tolerance, max_iterations):\n",
        "    x = start_x\n",
        "    iteration = 0\n",
        "\n",
        "    while iteration < max_iterations:\n",
        "        grad = gradient(x)\n",
        "        new_x = x - learning_rate * grad\n",
        "\n",
        "        if abs(new_x - x) < tolerance:\n",
        "            break\n",
        "\n",
        "        x = new_x\n",
        "        iteration += 1\n",
        "\n",
        "    return x, f(x)\n",
        "\n",
        "start_x = 1.0\n",
        "learning_rate = 0.01\n",
        "tolerance = 1e-6\n",
        "max_iterations = 10000\n",
        "\n",
        "x_min, f_min = gradient_descent(start_x, learning_rate, tolerance, max_iterations)\n",
        "print(\"Minimum value of f(x):\", f_min)\n",
        "print(\"Value of x at minimum f(x):\", x_min)"
      ]
    },
    {
      "cell_type": "code",
      "source": [
        "def g(x, y):\n",
        "    return 3 * x**2 + 5 * (2.718281828459045 ** -y) + 10\n",
        "\n",
        "def gradient_x(x):\n",
        "    return 6 * x\n",
        "\n",
        "def gradient_y(y):\n",
        "    return -5 * (2.718281828459045 ** -y)\n",
        "\n",
        "def gradient_descent_2d(start_x, start_y, learning_rate, tolerance, max_iterations):\n",
        "    x, y = start_x, start_y\n",
        "    iteration = 0\n",
        "\n",
        "    while iteration < max_iterations:\n",
        "        grad_x = gradient_x(x)\n",
        "        grad_y = gradient_y(y)\n",
        "\n",
        "        new_x = x - learning_rate * grad_x\n",
        "        new_y = y - learning_rate * grad_y\n",
        "\n",
        "        if abs(new_x - x) < tolerance and abs(new_y - y) < tolerance:\n",
        "            break\n",
        "\n",
        "        x, y = new_x, new_y\n",
        "        iteration += 1\n",
        "\n",
        "    return x, y, g(x, y)\n",
        "\n",
        "start_x = 1.0\n",
        "start_y = 1.0\n",
        "learning_rate = 0.01\n",
        "tolerance = 1e-6\n",
        "max_iterations = 10000\n",
        "\n",
        "x_min, y_min, g_min = gradient_descent_2d(start_x, start_y, learning_rate, tolerance, max_iterations)\n",
        "print(\"Minimum value of g(x, y):\", g_min)\n",
        "print(\"Value of x at minimum g(x, y):\", x_min)\n",
        "print(\"Value of y at minimum g(x, y):\", y_min)"
      ],
      "metadata": {
        "colab": {
          "base_uri": "https://localhost:8080/"
        },
        "id": "niqzxbS71Qpv",
        "outputId": "47a99e5e-06e8-4fb1-955e-c7ca7abea793"
      },
      "execution_count": 2,
      "outputs": [
        {
          "output_type": "stream",
          "name": "stdout",
          "text": [
            "Minimum value of g(x, y): 10.009943343967636\n",
            "Value of x at minimum g(x, y): 1.8990482403275175e-269\n",
            "Value of y at minimum g(x, y): 6.2202898120675485\n"
          ]
        }
      ]
    },
    {
      "cell_type": "code",
      "source": [
        "def z(x):\n",
        "    return 1 / (1 + 2.718281828459045 ** -x)\n",
        "def gradient(x):\n",
        "    sigmoid = z(x)\n",
        "    return sigmoid * (1 - sigmoid)\n",
        "\n",
        "def gradient_descent(start_x, learning_rate, tolerance, max_iterations):\n",
        "    x = start_x\n",
        "    iteration = 0\n",
        "\n",
        "    while iteration < max_iterations:\n",
        "        grad = gradient(x)\n",
        "        new_x = x - learning_rate * grad\n",
        "\n",
        "        if abs(new_x - x) < tolerance:\n",
        "            break\n",
        "\n",
        "        x = new_x\n",
        "        iteration += 1\n",
        "\n",
        "    return x, z(x)\n",
        "\n",
        "start_x = 1.0\n",
        "learning_rate = 0.01\n",
        "tolerance = 1e-6\n",
        "max_iterations = 10000\n",
        "\n",
        "x_min, z_min = gradient_descent(start_x, learning_rate, tolerance, max_iterations)\n",
        "print(\"Minimum value of z(x):\", z_min)\n",
        "print(\"Value of x at minimum z(x):\", x_min)"
      ],
      "metadata": {
        "colab": {
          "base_uri": "https://localhost:8080/"
        },
        "id": "T9LVSWIo1QtK",
        "outputId": "d12b3b76-4a51-4ed4-885d-17b0acac18c8"
      },
      "execution_count": 3,
      "outputs": [
        {
          "output_type": "stream",
          "name": "stdout",
          "text": [
            "Minimum value of z(x): 0.011396092394121144\n",
            "Value of x at minimum z(x): -4.463023229336288\n"
          ]
        }
      ]
    },
    {
      "cell_type": "code",
      "source": [
        "def model(input_value, M, C):\n",
        "    return M * input_value + C\n",
        "\n",
        "def square_error(output, expected_output):\n",
        "    return (output - expected_output) ** 2\n",
        "\n",
        "def gradients(input_value, M, C, expected_output):\n",
        "    output = model(input_value, M, C)\n",
        "    error = output - expected_output\n",
        "\n",
        "    grad_M = 2 * error * input_value\n",
        "    grad_C = 2 * error\n",
        "\n",
        "    return grad_M, grad_C\n",
        "\n",
        "def gradient_descent(input_value, expected_output, start_M, start_C, learning_rate, tolerance, max_iterations):\n",
        "    M, C = start_M, start_C\n",
        "    iteration = 0\n",
        "\n",
        "    while iteration < max_iterations:\n",
        "        grad_M, grad_C = gradients(input_value, M, C, expected_output)\n",
        "\n",
        "        new_M = M - learning_rate * grad_M\n",
        "        new_C = C - learning_rate * grad_C\n",
        "\n",
        "        if abs(new_M - M) < tolerance and abs(new_C - C) < tolerance:\n",
        "            break\n",
        "\n",
        "        M, C = new_M, new_C\n",
        "        iteration += 1\n",
        "\n",
        "    return M, C, square_error(model(input_value, M, C), expected_output)\n",
        "\n",
        "input_value = 2.0\n",
        "expected_output = 0.5\n",
        "start_M = 0.0\n",
        "start_C = 0.0\n",
        "learning_rate = 0.01\n",
        "tolerance = 1e-6\n",
        "max_iterations = 10000\n",
        "\n",
        "optimal_M, optimal_C, min_error = gradient_descent(\n",
        "    input_value, expected_output, start_M, start_C, learning_rate, tolerance, max_iterations\n",
        ")\n",
        "\n",
        "print(\"Optimal value of M:\", optimal_M)\n",
        "print(\"Optimal value of C:\", optimal_C)\n",
        "print(\"Minimum square error:\", min_error)\n"
      ],
      "metadata": {
        "colab": {
          "base_uri": "https://localhost:8080/"
        },
        "id": "V9-7RXqD1Q0J",
        "outputId": "5232f83d-7506-454d-b1b1-a487e538d35b"
      },
      "execution_count": 4,
      "outputs": [
        {
          "output_type": "stream",
          "name": "stdout",
          "text": [
            "Optimal value of M: 0.1999900040083894\n",
            "Optimal value of C: 0.0999950020041947\n",
            "Minimum square error: 6.244990517449996e-10\n"
          ]
        }
      ]
    },
    {
      "cell_type": "code",
      "source": [],
      "metadata": {
        "id": "IfdT-jCW1iwc"
      },
      "execution_count": null,
      "outputs": []
    }
  ]
}